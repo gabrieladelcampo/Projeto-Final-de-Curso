{
  "nbformat": 4,
  "nbformat_minor": 0,
  "metadata": {
    "colab": {
      "name": "Simulação_descontínuo.ipynb",
      "provenance": [],
      "collapsed_sections": [],
      "include_colab_link": true
    },
    "kernelspec": {
      "name": "python3",
      "display_name": "Python 3"
    },
    "language_info": {
      "name": "python"
    }
  },
  "cells": [
    {
      "cell_type": "markdown",
      "metadata": {
        "id": "view-in-github",
        "colab_type": "text"
      },
      "source": [
        "<a href=\"https://colab.research.google.com/github/gabrieladelcampo/Projeto-Final-de-Curso/blob/main/Simula%C3%A7%C3%A3o_descont%C3%ADnuo.ipynb\" target=\"_parent\"><img src=\"https://colab.research.google.com/assets/colab-badge.svg\" alt=\"Open In Colab\"/></a>"
      ]
    },
    {
      "cell_type": "markdown",
      "source": [
        "# Modelo matemático do reator descontínuo\n",
        ">\n",
        "$$ \\frac{dX}{dt} =  \\mu_x \\cdot X $$\n",
        ">\n",
        "$$ \\frac{dS}{dt} =  - \\frac{1}{Y_{X/S}} \\cdot \\mu_x \\cdot X $$\n",
        ">\n",
        "$$ \\frac{dP}{dt} =  \\biggr(\\frac{1}{Y_{P/s}}\\biggr) \\cdot \\mu_x \\cdot X $$\n",
        ">\n",
        "$$ \\mu_x =  \\frac{\\mu_x S}{K_s  X + S} $$\n",
        ">\n",
        "$$ \\mu_x =  \\frac{\\mu_x S}{K_s  + S} \\cdot e^{-K_pP} $$"
      ],
      "metadata": {
        "id": "7TSgf_j9MxI0"
      }
    },
    {
      "cell_type": "code",
      "execution_count": null,
      "metadata": {
        "id": "nD5uiA1f9QbX"
      },
      "outputs": [],
      "source": [
        "#Preparo do ambiente de programação\n",
        "#\n",
        "import numpy as np\n",
        "import pandas as pd\n",
        "from google.colab import drive\n",
        "import scipy.integrate as integrate\n",
        "from scipy import optimize\n",
        "import matplotlib.pyplot as plt\n",
        "from sklearn.metrics import r2_score\n",
        "from sklearn.metrics import mean_absolute_error\n",
        "#"
      ]
    },
    {
      "cell_type": "code",
      "source": [
        "#Importação dos dados experimentais\n",
        "from google.colab import drive\n",
        "drive.mount('/content/drive',force_remount=True)\n",
        "path = '/content/drive/MyDrive/Colab Notebooks/PFG_DelCampo/'\n",
        "dados = pd.read_csv(path+'dados_exp.csv', sep=';')\n",
        "dados.shape"
      ],
      "metadata": {
        "colab": {
          "base_uri": "https://localhost:8080/"
        },
        "id": "II8FPdYL9lIq",
        "outputId": "d626b72c-291e-4ed6-8ed3-c15a9cd52f48"
      },
      "execution_count": null,
      "outputs": [
        {
          "output_type": "stream",
          "name": "stdout",
          "text": [
            "Mounted at /content/drive\n"
          ]
        },
        {
          "output_type": "execute_result",
          "data": {
            "text/plain": [
              "(10, 6)"
            ]
          },
          "metadata": {},
          "execution_count": 9
        }
      ]
    },
    {
      "cell_type": "code",
      "source": [
        "path = '/content/drive/MyDrive/Colab Notebooks/PFG_DelCampo/'\n",
        "dados = pd.read_csv(path+'dados_exp.csv', sep=';')\n",
        "dados.shape"
      ],
      "metadata": {
        "colab": {
          "base_uri": "https://localhost:8080/"
        },
        "id": "qvlEJLrl-KKL",
        "outputId": "fb041802-abe6-4af2-a72e-f435d74065db"
      },
      "execution_count": null,
      "outputs": [
        {
          "output_type": "execute_result",
          "data": {
            "text/plain": [
              "(10, 6)"
            ]
          },
          "metadata": {},
          "execution_count": 10
        }
      ]
    },
    {
      "cell_type": "code",
      "source": [
        "dados #dados experimentais de Rodrigues (1997)"
      ],
      "metadata": {
        "colab": {
          "base_uri": "https://localhost:8080/",
          "height": 363
        },
        "id": "7aFfKDU3-maa",
        "outputId": "00e3a03a-966d-4659-ffbd-7edfc6a58264"
      },
      "execution_count": null,
      "outputs": [
        {
          "output_type": "execute_result",
          "data": {
            "text/plain": [
              "     t_h          X         G          S         A          P\n",
              "0   0.00   0.619003  7.542533  53.677860  7.670954   0.000000\n",
              "1   3.33   0.802670  6.313386  54.090063  6.508113   0.000000\n",
              "2   9.50   2.231020  3.005877  49.811490  7.520865   5.448729\n",
              "3  15.58   4.257879  1.568644  34.381284  5.885156  11.040323\n",
              "4  21.58   5.422295  1.585663  24.293974  5.900578  19.198021\n",
              "5  27.91   7.324173  0.874884  15.097138  5.390947  25.595118\n",
              "6  33.16   9.769446  0.000000  11.545548  5.459147  26.444251\n",
              "7  39.16  12.641671  0.000000   8.448034  5.394757  26.045459\n",
              "8  42.49  12.474771  0.000000   7.142522  5.100285  25.622192\n",
              "9  45.07  12.862910  0.000000   6.812621  5.499062  27.004000"
            ],
            "text/html": [
              "\n",
              "  <div id=\"df-d888ed10-8436-44a8-91e2-7e68ae03dd4d\">\n",
              "    <div class=\"colab-df-container\">\n",
              "      <div>\n",
              "<style scoped>\n",
              "    .dataframe tbody tr th:only-of-type {\n",
              "        vertical-align: middle;\n",
              "    }\n",
              "\n",
              "    .dataframe tbody tr th {\n",
              "        vertical-align: top;\n",
              "    }\n",
              "\n",
              "    .dataframe thead th {\n",
              "        text-align: right;\n",
              "    }\n",
              "</style>\n",
              "<table border=\"1\" class=\"dataframe\">\n",
              "  <thead>\n",
              "    <tr style=\"text-align: right;\">\n",
              "      <th></th>\n",
              "      <th>t_h</th>\n",
              "      <th>X</th>\n",
              "      <th>G</th>\n",
              "      <th>S</th>\n",
              "      <th>A</th>\n",
              "      <th>P</th>\n",
              "    </tr>\n",
              "  </thead>\n",
              "  <tbody>\n",
              "    <tr>\n",
              "      <th>0</th>\n",
              "      <td>0.00</td>\n",
              "      <td>0.619003</td>\n",
              "      <td>7.542533</td>\n",
              "      <td>53.677860</td>\n",
              "      <td>7.670954</td>\n",
              "      <td>0.000000</td>\n",
              "    </tr>\n",
              "    <tr>\n",
              "      <th>1</th>\n",
              "      <td>3.33</td>\n",
              "      <td>0.802670</td>\n",
              "      <td>6.313386</td>\n",
              "      <td>54.090063</td>\n",
              "      <td>6.508113</td>\n",
              "      <td>0.000000</td>\n",
              "    </tr>\n",
              "    <tr>\n",
              "      <th>2</th>\n",
              "      <td>9.50</td>\n",
              "      <td>2.231020</td>\n",
              "      <td>3.005877</td>\n",
              "      <td>49.811490</td>\n",
              "      <td>7.520865</td>\n",
              "      <td>5.448729</td>\n",
              "    </tr>\n",
              "    <tr>\n",
              "      <th>3</th>\n",
              "      <td>15.58</td>\n",
              "      <td>4.257879</td>\n",
              "      <td>1.568644</td>\n",
              "      <td>34.381284</td>\n",
              "      <td>5.885156</td>\n",
              "      <td>11.040323</td>\n",
              "    </tr>\n",
              "    <tr>\n",
              "      <th>4</th>\n",
              "      <td>21.58</td>\n",
              "      <td>5.422295</td>\n",
              "      <td>1.585663</td>\n",
              "      <td>24.293974</td>\n",
              "      <td>5.900578</td>\n",
              "      <td>19.198021</td>\n",
              "    </tr>\n",
              "    <tr>\n",
              "      <th>5</th>\n",
              "      <td>27.91</td>\n",
              "      <td>7.324173</td>\n",
              "      <td>0.874884</td>\n",
              "      <td>15.097138</td>\n",
              "      <td>5.390947</td>\n",
              "      <td>25.595118</td>\n",
              "    </tr>\n",
              "    <tr>\n",
              "      <th>6</th>\n",
              "      <td>33.16</td>\n",
              "      <td>9.769446</td>\n",
              "      <td>0.000000</td>\n",
              "      <td>11.545548</td>\n",
              "      <td>5.459147</td>\n",
              "      <td>26.444251</td>\n",
              "    </tr>\n",
              "    <tr>\n",
              "      <th>7</th>\n",
              "      <td>39.16</td>\n",
              "      <td>12.641671</td>\n",
              "      <td>0.000000</td>\n",
              "      <td>8.448034</td>\n",
              "      <td>5.394757</td>\n",
              "      <td>26.045459</td>\n",
              "    </tr>\n",
              "    <tr>\n",
              "      <th>8</th>\n",
              "      <td>42.49</td>\n",
              "      <td>12.474771</td>\n",
              "      <td>0.000000</td>\n",
              "      <td>7.142522</td>\n",
              "      <td>5.100285</td>\n",
              "      <td>25.622192</td>\n",
              "    </tr>\n",
              "    <tr>\n",
              "      <th>9</th>\n",
              "      <td>45.07</td>\n",
              "      <td>12.862910</td>\n",
              "      <td>0.000000</td>\n",
              "      <td>6.812621</td>\n",
              "      <td>5.499062</td>\n",
              "      <td>27.004000</td>\n",
              "    </tr>\n",
              "  </tbody>\n",
              "</table>\n",
              "</div>\n",
              "      <button class=\"colab-df-convert\" onclick=\"convertToInteractive('df-d888ed10-8436-44a8-91e2-7e68ae03dd4d')\"\n",
              "              title=\"Convert this dataframe to an interactive table.\"\n",
              "              style=\"display:none;\">\n",
              "        \n",
              "  <svg xmlns=\"http://www.w3.org/2000/svg\" height=\"24px\"viewBox=\"0 0 24 24\"\n",
              "       width=\"24px\">\n",
              "    <path d=\"M0 0h24v24H0V0z\" fill=\"none\"/>\n",
              "    <path d=\"M18.56 5.44l.94 2.06.94-2.06 2.06-.94-2.06-.94-.94-2.06-.94 2.06-2.06.94zm-11 1L8.5 8.5l.94-2.06 2.06-.94-2.06-.94L8.5 2.5l-.94 2.06-2.06.94zm10 10l.94 2.06.94-2.06 2.06-.94-2.06-.94-.94-2.06-.94 2.06-2.06.94z\"/><path d=\"M17.41 7.96l-1.37-1.37c-.4-.4-.92-.59-1.43-.59-.52 0-1.04.2-1.43.59L10.3 9.45l-7.72 7.72c-.78.78-.78 2.05 0 2.83L4 21.41c.39.39.9.59 1.41.59.51 0 1.02-.2 1.41-.59l7.78-7.78 2.81-2.81c.8-.78.8-2.07 0-2.86zM5.41 20L4 18.59l7.72-7.72 1.47 1.35L5.41 20z\"/>\n",
              "  </svg>\n",
              "      </button>\n",
              "      \n",
              "  <style>\n",
              "    .colab-df-container {\n",
              "      display:flex;\n",
              "      flex-wrap:wrap;\n",
              "      gap: 12px;\n",
              "    }\n",
              "\n",
              "    .colab-df-convert {\n",
              "      background-color: #E8F0FE;\n",
              "      border: none;\n",
              "      border-radius: 50%;\n",
              "      cursor: pointer;\n",
              "      display: none;\n",
              "      fill: #1967D2;\n",
              "      height: 32px;\n",
              "      padding: 0 0 0 0;\n",
              "      width: 32px;\n",
              "    }\n",
              "\n",
              "    .colab-df-convert:hover {\n",
              "      background-color: #E2EBFA;\n",
              "      box-shadow: 0px 1px 2px rgba(60, 64, 67, 0.3), 0px 1px 3px 1px rgba(60, 64, 67, 0.15);\n",
              "      fill: #174EA6;\n",
              "    }\n",
              "\n",
              "    [theme=dark] .colab-df-convert {\n",
              "      background-color: #3B4455;\n",
              "      fill: #D2E3FC;\n",
              "    }\n",
              "\n",
              "    [theme=dark] .colab-df-convert:hover {\n",
              "      background-color: #434B5C;\n",
              "      box-shadow: 0px 1px 3px 1px rgba(0, 0, 0, 0.15);\n",
              "      filter: drop-shadow(0px 1px 2px rgba(0, 0, 0, 0.3));\n",
              "      fill: #FFFFFF;\n",
              "    }\n",
              "  </style>\n",
              "\n",
              "      <script>\n",
              "        const buttonEl =\n",
              "          document.querySelector('#df-d888ed10-8436-44a8-91e2-7e68ae03dd4d button.colab-df-convert');\n",
              "        buttonEl.style.display =\n",
              "          google.colab.kernel.accessAllowed ? 'block' : 'none';\n",
              "\n",
              "        async function convertToInteractive(key) {\n",
              "          const element = document.querySelector('#df-d888ed10-8436-44a8-91e2-7e68ae03dd4d');\n",
              "          const dataTable =\n",
              "            await google.colab.kernel.invokeFunction('convertToInteractive',\n",
              "                                                     [key], {});\n",
              "          if (!dataTable) return;\n",
              "\n",
              "          const docLinkHtml = 'Like what you see? Visit the ' +\n",
              "            '<a target=\"_blank\" href=https://colab.research.google.com/notebooks/data_table.ipynb>data table notebook</a>'\n",
              "            + ' to learn more about interactive tables.';\n",
              "          element.innerHTML = '';\n",
              "          dataTable['output_type'] = 'display_data';\n",
              "          await google.colab.output.renderOutput(dataTable, element);\n",
              "          const docLink = document.createElement('div');\n",
              "          docLink.innerHTML = docLinkHtml;\n",
              "          element.appendChild(docLink);\n",
              "        }\n",
              "      </script>\n",
              "    </div>\n",
              "  </div>\n",
              "  "
            ]
          },
          "metadata": {},
          "execution_count": 11
        }
      ]
    },
    {
      "cell_type": "code",
      "source": [
        "#Definição do modelo                                                            \n",
        "def f_modelo(t, y, param):\n",
        "  X = y[0]\n",
        "  S = y[1]\n",
        "  P = y[2]\n",
        "  #\n",
        "  mi_max     = param[0]\n",
        "  Ks         = param[1]\n",
        "  Yxs        = param[2]\n",
        "  Ypx        = param[3]\n",
        "  #Kp         = param[4]\n",
        "  #\n",
        "  mi = mi_max * S / (Ks*X + S) # Modelo Contois e Fujimoto (1959)  \n",
        "  #mi = mi_max * S / (Ks*X + S)*np.exp(-Kp*P) # Modelo de Aiba (1968)\n",
        "  #\n",
        "  dX_dt = mi*X \n",
        "  dS_dt = (-1/Yxs)*dX_dt\n",
        "  dP_dt = (1/Ypx)*dX_dt\n",
        "  #\n",
        "  dydt = np.array([dP_dt, dS_dt, dX_dt])\n",
        "  return dydt"
      ],
      "metadata": {
        "id": "m-C2_rZY_l7T"
      },
      "execution_count": null,
      "outputs": []
    },
    {
      "cell_type": "code",
      "source": [
        "#Estimativas iniciais, providos da linearização de Monod e das Equações do texto.\n",
        "\n",
        "mi_max  =  0.055  # 1/h \n",
        "Ks      = 22.37  # g/L \n",
        "Yxs     =  0.261   #g/L\n",
        "Ypx     =  2.205  #g/L\n",
        "Kp      =  0.01"
      ],
      "metadata": {
        "id": "x12gx3GASspJ"
      },
      "execution_count": null,
      "outputs": []
    },
    {
      "cell_type": "code",
      "source": [
        "#Parâmetros do modelo \n",
        "param = [mi_max,Ks,Yxs,Ypx]\n",
        "param\n",
        "\n",
        "#param = [mi_max,Ks,Yxs,Ypx, Kp]\n",
        "#param"
      ],
      "metadata": {
        "colab": {
          "base_uri": "https://localhost:8080/"
        },
        "id": "g7ILo6_jAEwh",
        "outputId": "dfef5cfe-de63-4527-8b1b-33646090b3e5"
      },
      "execution_count": null,
      "outputs": [
        {
          "output_type": "execute_result",
          "data": {
            "text/plain": [
              "[0.055, 22.37, 0.261, 2.205]"
            ]
          },
          "metadata": {},
          "execution_count": 14
        }
      ]
    },
    {
      "cell_type": "code",
      "source": [
        "#Condições de operação inicial                                                   \n",
        "X0 =  0.62   #g/L\n",
        "S0 = 53.68   #g/L\n",
        "P0 = 0.00    #g/L\n"
      ],
      "metadata": {
        "id": "YMkUUe_LALPR"
      },
      "execution_count": null,
      "outputs": []
    },
    {
      "cell_type": "code",
      "source": [
        "y0 = np.array([X0, S0, P0])\n",
        "f_modelo(0, y0, param)"
      ],
      "metadata": {
        "colab": {
          "base_uri": "https://localhost:8080/"
        },
        "id": "td7p_b-hASBB",
        "outputId": "77cfa928-0e3f-41a0-bbca-e1762ea8adde"
      },
      "execution_count": null,
      "outputs": [
        {
          "output_type": "execute_result",
          "data": {
            "text/plain": [
              "array([ 0.01228957, -0.1038257 ,  0.02709851])"
            ]
          },
          "metadata": {},
          "execution_count": 16
        }
      ]
    },
    {
      "cell_type": "code",
      "metadata": {
        "id": "TZW4a2vmQI5R"
      },
      "source": [
        "t_sim  = 50.0 #h\n",
        "t_span = (0, t_sim)"
      ],
      "execution_count": null,
      "outputs": []
    },
    {
      "cell_type": "code",
      "source": [
        "t_res = dados.t_h.to_numpy()\n",
        "t_res #tempo de fermentação"
      ],
      "metadata": {
        "colab": {
          "base_uri": "https://localhost:8080/"
        },
        "id": "WoRwC646BFnh",
        "outputId": "5c39a691-5d26-4823-b57b-3fe0376060e4"
      },
      "execution_count": null,
      "outputs": [
        {
          "output_type": "execute_result",
          "data": {
            "text/plain": [
              "array([ 0.  ,  3.33,  9.5 , 15.58, 21.58, 27.91, 33.16, 39.16, 42.49,\n",
              "       45.07])"
            ]
          },
          "metadata": {},
          "execution_count": 18
        }
      ]
    },
    {
      "cell_type": "code",
      "metadata": {
        "colab": {
          "base_uri": "https://localhost:8080/"
        },
        "id": "bwnqwnEkQYVN",
        "outputId": "cf9386d6-4208-4946-fefd-3b4866c48281"
      },
      "source": [
        "sol = integrate.solve_ivp(f_modelo, t_span, y0, method='LSODA',\n",
        "                          t_eval = t_res, args = (param,), \n",
        "                          atol = 1.0e-6)\n",
        "sol #solução numérica"
      ],
      "execution_count": null,
      "outputs": [
        {
          "output_type": "execute_result",
          "data": {
            "text/plain": [
              "  message: 'The solver successfully reached the end of the integration interval.'\n",
              "     nfev: 21\n",
              "     njev: 0\n",
              "      nlu: 0\n",
              "      sol: None\n",
              "   status: 0\n",
              "  success: True\n",
              "        t: array([ 0.  ,  3.33,  9.5 , 15.58, 21.58, 27.91, 33.16, 39.16, 42.49,\n",
              "       45.07])\n",
              " t_events: None\n",
              "        y: array([[ 0.62      ,  0.6619768 ,  0.7453806 ,  0.8348349 ,  0.93021851,\n",
              "         1.03842017,  1.1339327 ,  1.24924817,  1.31596156,  1.36892347],\n",
              "       [53.68      , 53.32536845, 52.62075013, 51.86501547, 51.05918844,\n",
              "        50.145071  , 49.33815474, 48.36393784, 47.80032479, 47.35288796],\n",
              "       [ 0.        ,  0.09255884,  0.27646422,  0.47371096,  0.68403182,\n",
              "         0.92261647,  1.13322161,  1.38749222,  1.53459523,  1.65137624]])\n",
              " y_events: None"
            ]
          },
          "metadata": {},
          "execution_count": 19
        }
      ]
    },
    {
      "cell_type": "code",
      "source": [
        "dados['X_est'] = sol.y[0]\n",
        "dados['S_est'] = sol.y[1]\n",
        "dados['P_est'] = sol.y[2]"
      ],
      "metadata": {
        "id": "1lKPuJ_CCAxC"
      },
      "execution_count": null,
      "outputs": []
    },
    {
      "cell_type": "code",
      "source": [
        "dados #dados experimentais e estimados com os parâmetros iniciais pelo modelo "
      ],
      "metadata": {
        "colab": {
          "base_uri": "https://localhost:8080/",
          "height": 363
        },
        "id": "QaoXFYn_CM_J",
        "outputId": "86cc653a-2ac2-4c33-cbc1-56832a1f8c6d"
      },
      "execution_count": null,
      "outputs": [
        {
          "output_type": "execute_result",
          "data": {
            "text/plain": [
              "     t_h          X         G          S         A          P     X_est  \\\n",
              "0   0.00   0.619003  7.542533  53.677860  7.670954   0.000000  0.620000   \n",
              "1   3.33   0.802670  6.313386  54.090063  6.508113   0.000000  0.661977   \n",
              "2   9.50   2.231020  3.005877  49.811490  7.520865   5.448729  0.745381   \n",
              "3  15.58   4.257879  1.568644  34.381284  5.885156  11.040323  0.834835   \n",
              "4  21.58   5.422295  1.585663  24.293974  5.900578  19.198021  0.930219   \n",
              "5  27.91   7.324173  0.874884  15.097138  5.390947  25.595118  1.038420   \n",
              "6  33.16   9.769446  0.000000  11.545548  5.459147  26.444251  1.133933   \n",
              "7  39.16  12.641671  0.000000   8.448034  5.394757  26.045459  1.249248   \n",
              "8  42.49  12.474771  0.000000   7.142522  5.100285  25.622192  1.315962   \n",
              "9  45.07  12.862910  0.000000   6.812621  5.499062  27.004000  1.368923   \n",
              "\n",
              "       S_est     P_est  \n",
              "0  53.680000  0.000000  \n",
              "1  53.325368  0.092559  \n",
              "2  52.620750  0.276464  \n",
              "3  51.865015  0.473711  \n",
              "4  51.059188  0.684032  \n",
              "5  50.145071  0.922616  \n",
              "6  49.338155  1.133222  \n",
              "7  48.363938  1.387492  \n",
              "8  47.800325  1.534595  \n",
              "9  47.352888  1.651376  "
            ],
            "text/html": [
              "\n",
              "  <div id=\"df-474ec207-7e60-4168-99c1-ccdfd9e1b25f\">\n",
              "    <div class=\"colab-df-container\">\n",
              "      <div>\n",
              "<style scoped>\n",
              "    .dataframe tbody tr th:only-of-type {\n",
              "        vertical-align: middle;\n",
              "    }\n",
              "\n",
              "    .dataframe tbody tr th {\n",
              "        vertical-align: top;\n",
              "    }\n",
              "\n",
              "    .dataframe thead th {\n",
              "        text-align: right;\n",
              "    }\n",
              "</style>\n",
              "<table border=\"1\" class=\"dataframe\">\n",
              "  <thead>\n",
              "    <tr style=\"text-align: right;\">\n",
              "      <th></th>\n",
              "      <th>t_h</th>\n",
              "      <th>X</th>\n",
              "      <th>G</th>\n",
              "      <th>S</th>\n",
              "      <th>A</th>\n",
              "      <th>P</th>\n",
              "      <th>X_est</th>\n",
              "      <th>S_est</th>\n",
              "      <th>P_est</th>\n",
              "    </tr>\n",
              "  </thead>\n",
              "  <tbody>\n",
              "    <tr>\n",
              "      <th>0</th>\n",
              "      <td>0.00</td>\n",
              "      <td>0.619003</td>\n",
              "      <td>7.542533</td>\n",
              "      <td>53.677860</td>\n",
              "      <td>7.670954</td>\n",
              "      <td>0.000000</td>\n",
              "      <td>0.620000</td>\n",
              "      <td>53.680000</td>\n",
              "      <td>0.000000</td>\n",
              "    </tr>\n",
              "    <tr>\n",
              "      <th>1</th>\n",
              "      <td>3.33</td>\n",
              "      <td>0.802670</td>\n",
              "      <td>6.313386</td>\n",
              "      <td>54.090063</td>\n",
              "      <td>6.508113</td>\n",
              "      <td>0.000000</td>\n",
              "      <td>0.661977</td>\n",
              "      <td>53.325368</td>\n",
              "      <td>0.092559</td>\n",
              "    </tr>\n",
              "    <tr>\n",
              "      <th>2</th>\n",
              "      <td>9.50</td>\n",
              "      <td>2.231020</td>\n",
              "      <td>3.005877</td>\n",
              "      <td>49.811490</td>\n",
              "      <td>7.520865</td>\n",
              "      <td>5.448729</td>\n",
              "      <td>0.745381</td>\n",
              "      <td>52.620750</td>\n",
              "      <td>0.276464</td>\n",
              "    </tr>\n",
              "    <tr>\n",
              "      <th>3</th>\n",
              "      <td>15.58</td>\n",
              "      <td>4.257879</td>\n",
              "      <td>1.568644</td>\n",
              "      <td>34.381284</td>\n",
              "      <td>5.885156</td>\n",
              "      <td>11.040323</td>\n",
              "      <td>0.834835</td>\n",
              "      <td>51.865015</td>\n",
              "      <td>0.473711</td>\n",
              "    </tr>\n",
              "    <tr>\n",
              "      <th>4</th>\n",
              "      <td>21.58</td>\n",
              "      <td>5.422295</td>\n",
              "      <td>1.585663</td>\n",
              "      <td>24.293974</td>\n",
              "      <td>5.900578</td>\n",
              "      <td>19.198021</td>\n",
              "      <td>0.930219</td>\n",
              "      <td>51.059188</td>\n",
              "      <td>0.684032</td>\n",
              "    </tr>\n",
              "    <tr>\n",
              "      <th>5</th>\n",
              "      <td>27.91</td>\n",
              "      <td>7.324173</td>\n",
              "      <td>0.874884</td>\n",
              "      <td>15.097138</td>\n",
              "      <td>5.390947</td>\n",
              "      <td>25.595118</td>\n",
              "      <td>1.038420</td>\n",
              "      <td>50.145071</td>\n",
              "      <td>0.922616</td>\n",
              "    </tr>\n",
              "    <tr>\n",
              "      <th>6</th>\n",
              "      <td>33.16</td>\n",
              "      <td>9.769446</td>\n",
              "      <td>0.000000</td>\n",
              "      <td>11.545548</td>\n",
              "      <td>5.459147</td>\n",
              "      <td>26.444251</td>\n",
              "      <td>1.133933</td>\n",
              "      <td>49.338155</td>\n",
              "      <td>1.133222</td>\n",
              "    </tr>\n",
              "    <tr>\n",
              "      <th>7</th>\n",
              "      <td>39.16</td>\n",
              "      <td>12.641671</td>\n",
              "      <td>0.000000</td>\n",
              "      <td>8.448034</td>\n",
              "      <td>5.394757</td>\n",
              "      <td>26.045459</td>\n",
              "      <td>1.249248</td>\n",
              "      <td>48.363938</td>\n",
              "      <td>1.387492</td>\n",
              "    </tr>\n",
              "    <tr>\n",
              "      <th>8</th>\n",
              "      <td>42.49</td>\n",
              "      <td>12.474771</td>\n",
              "      <td>0.000000</td>\n",
              "      <td>7.142522</td>\n",
              "      <td>5.100285</td>\n",
              "      <td>25.622192</td>\n",
              "      <td>1.315962</td>\n",
              "      <td>47.800325</td>\n",
              "      <td>1.534595</td>\n",
              "    </tr>\n",
              "    <tr>\n",
              "      <th>9</th>\n",
              "      <td>45.07</td>\n",
              "      <td>12.862910</td>\n",
              "      <td>0.000000</td>\n",
              "      <td>6.812621</td>\n",
              "      <td>5.499062</td>\n",
              "      <td>27.004000</td>\n",
              "      <td>1.368923</td>\n",
              "      <td>47.352888</td>\n",
              "      <td>1.651376</td>\n",
              "    </tr>\n",
              "  </tbody>\n",
              "</table>\n",
              "</div>\n",
              "      <button class=\"colab-df-convert\" onclick=\"convertToInteractive('df-474ec207-7e60-4168-99c1-ccdfd9e1b25f')\"\n",
              "              title=\"Convert this dataframe to an interactive table.\"\n",
              "              style=\"display:none;\">\n",
              "        \n",
              "  <svg xmlns=\"http://www.w3.org/2000/svg\" height=\"24px\"viewBox=\"0 0 24 24\"\n",
              "       width=\"24px\">\n",
              "    <path d=\"M0 0h24v24H0V0z\" fill=\"none\"/>\n",
              "    <path d=\"M18.56 5.44l.94 2.06.94-2.06 2.06-.94-2.06-.94-.94-2.06-.94 2.06-2.06.94zm-11 1L8.5 8.5l.94-2.06 2.06-.94-2.06-.94L8.5 2.5l-.94 2.06-2.06.94zm10 10l.94 2.06.94-2.06 2.06-.94-2.06-.94-.94-2.06-.94 2.06-2.06.94z\"/><path d=\"M17.41 7.96l-1.37-1.37c-.4-.4-.92-.59-1.43-.59-.52 0-1.04.2-1.43.59L10.3 9.45l-7.72 7.72c-.78.78-.78 2.05 0 2.83L4 21.41c.39.39.9.59 1.41.59.51 0 1.02-.2 1.41-.59l7.78-7.78 2.81-2.81c.8-.78.8-2.07 0-2.86zM5.41 20L4 18.59l7.72-7.72 1.47 1.35L5.41 20z\"/>\n",
              "  </svg>\n",
              "      </button>\n",
              "      \n",
              "  <style>\n",
              "    .colab-df-container {\n",
              "      display:flex;\n",
              "      flex-wrap:wrap;\n",
              "      gap: 12px;\n",
              "    }\n",
              "\n",
              "    .colab-df-convert {\n",
              "      background-color: #E8F0FE;\n",
              "      border: none;\n",
              "      border-radius: 50%;\n",
              "      cursor: pointer;\n",
              "      display: none;\n",
              "      fill: #1967D2;\n",
              "      height: 32px;\n",
              "      padding: 0 0 0 0;\n",
              "      width: 32px;\n",
              "    }\n",
              "\n",
              "    .colab-df-convert:hover {\n",
              "      background-color: #E2EBFA;\n",
              "      box-shadow: 0px 1px 2px rgba(60, 64, 67, 0.3), 0px 1px 3px 1px rgba(60, 64, 67, 0.15);\n",
              "      fill: #174EA6;\n",
              "    }\n",
              "\n",
              "    [theme=dark] .colab-df-convert {\n",
              "      background-color: #3B4455;\n",
              "      fill: #D2E3FC;\n",
              "    }\n",
              "\n",
              "    [theme=dark] .colab-df-convert:hover {\n",
              "      background-color: #434B5C;\n",
              "      box-shadow: 0px 1px 3px 1px rgba(0, 0, 0, 0.15);\n",
              "      filter: drop-shadow(0px 1px 2px rgba(0, 0, 0, 0.3));\n",
              "      fill: #FFFFFF;\n",
              "    }\n",
              "  </style>\n",
              "\n",
              "      <script>\n",
              "        const buttonEl =\n",
              "          document.querySelector('#df-474ec207-7e60-4168-99c1-ccdfd9e1b25f button.colab-df-convert');\n",
              "        buttonEl.style.display =\n",
              "          google.colab.kernel.accessAllowed ? 'block' : 'none';\n",
              "\n",
              "        async function convertToInteractive(key) {\n",
              "          const element = document.querySelector('#df-474ec207-7e60-4168-99c1-ccdfd9e1b25f');\n",
              "          const dataTable =\n",
              "            await google.colab.kernel.invokeFunction('convertToInteractive',\n",
              "                                                     [key], {});\n",
              "          if (!dataTable) return;\n",
              "\n",
              "          const docLinkHtml = 'Like what you see? Visit the ' +\n",
              "            '<a target=\"_blank\" href=https://colab.research.google.com/notebooks/data_table.ipynb>data table notebook</a>'\n",
              "            + ' to learn more about interactive tables.';\n",
              "          element.innerHTML = '';\n",
              "          dataTable['output_type'] = 'display_data';\n",
              "          await google.colab.output.renderOutput(dataTable, element);\n",
              "          const docLink = document.createElement('div');\n",
              "          docLink.innerHTML = docLinkHtml;\n",
              "          element.appendChild(docLink);\n",
              "        }\n",
              "      </script>\n",
              "    </div>\n",
              "  </div>\n",
              "  "
            ]
          },
          "metadata": {},
          "execution_count": 21
        }
      ]
    },
    {
      "cell_type": "code",
      "source": [
        "#Resíduos dos dados\n",
        "res_X = dados.X - dados.X_est\n",
        "res_S = dados.S - dados.S_est\n",
        "res_P = dados.P - dados.P_est\n",
        "\n",
        "#Minimização dos resíduos ao quadrado\n",
        "SDQ_X = (res_X**2).sum()\n",
        "SDQ_S = (res_S**2).sum()\n",
        "SDQ_P = (res_P**2).sum()\n",
        "SDQ = SDQ_X + SDQ_S + SDQ_P\n",
        "SDQ"
      ],
      "metadata": {
        "colab": {
          "base_uri": "https://localhost:8080/"
        },
        "id": "nbp1G595DO7p",
        "outputId": "0bbcd051-3652-4042-8c36-52485c5c3537"
      },
      "execution_count": null,
      "outputs": [
        {
          "output_type": "execute_result",
          "data": {
            "text/plain": [
              "12673.19196090077"
            ]
          },
          "metadata": {},
          "execution_count": 22
        }
      ]
    },
    {
      "cell_type": "code",
      "source": [
        "#Definição da função objetivo e otimização dos resultados                            \n",
        "#\n",
        "def f_obj(par, y0, dados):\n",
        "  t_res = dados.t_h.to_numpy()\n",
        "  sol = integrate.solve_ivp(f_modelo, t_span, y0, method='LSODA',\n",
        "                          t_eval = t_res, args = (par,), \n",
        "                          atol = 1.0e-4)\n",
        "  dados['X_est'] = sol.y[0]\n",
        "  dados['S_est'] = sol.y[1]\n",
        "  dados['P_est'] = sol.y[2]\n",
        "  res_X = dados.X - dados.X_est\n",
        "  res_S = dados.S - dados.S_est\n",
        "  res_P = dados.P - dados.P_est\n",
        "  SDQ_X = (res_X**2).sum()\n",
        "  SDQ_S = (res_S**2).sum()\n",
        "  SDQ_P = (res_P**2).sum()\n",
        "  SDQ = SDQ_X + SDQ_S + SDQ_P\n",
        "  return SDQ\n",
        "  \n"
      ],
      "metadata": {
        "id": "SjtuaSGaEXpJ"
      },
      "execution_count": null,
      "outputs": []
    },
    {
      "cell_type": "code",
      "source": [
        "f_obj(param, y0, dados)"
      ],
      "metadata": {
        "colab": {
          "base_uri": "https://localhost:8080/"
        },
        "id": "iZlHOvU7FEmp",
        "outputId": "77f015d4-161d-4a8c-f45f-182cc9f50beb"
      },
      "execution_count": null,
      "outputs": [
        {
          "output_type": "execute_result",
          "data": {
            "text/plain": [
              "12675.545403064752"
            ]
          },
          "metadata": {},
          "execution_count": 24
        }
      ]
    },
    {
      "cell_type": "code",
      "source": [
        "result_otim = optimize.minimize(f_obj, param, method=\"Powell\", args=(y0, dados))\n",
        "result_otim"
      ],
      "metadata": {
        "colab": {
          "base_uri": "https://localhost:8080/"
        },
        "id": "W5v2WtZ4G8mB",
        "outputId": "4e7bbb25-9c12-43bf-9579-1826d6635a87"
      },
      "execution_count": null,
      "outputs": [
        {
          "output_type": "execute_result",
          "data": {
            "text/plain": [
              "   direc: array([[ 9.58956550e-05, -3.21917978e+00,  5.10409717e-02,\n",
              "         3.15908740e-01],\n",
              "       [ 4.42799602e-04, -4.89318879e-02, -2.01527275e-04,\n",
              "         3.37195786e-02],\n",
              "       [ 0.00000000e+00,  0.00000000e+00,  1.00000000e+00,\n",
              "         0.00000000e+00],\n",
              "       [-1.82778820e-02, -6.44103349e-01, -2.34225496e-03,\n",
              "        -2.54382631e-02]])\n",
              "     fun: 89.9407941206151\n",
              " message: 'Optimization terminated successfully.'\n",
              "    nfev: 430\n",
              "     nit: 8\n",
              "  status: 0\n",
              " success: True\n",
              "       x: array([ 0.51977395, 11.17881582,  0.59068845,  2.5265062 ])"
            ]
          },
          "metadata": {},
          "execution_count": 25
        }
      ]
    },
    {
      "cell_type": "code",
      "source": [
        "par_est = result_otim.x\n",
        "par_est"
      ],
      "metadata": {
        "colab": {
          "base_uri": "https://localhost:8080/"
        },
        "id": "UgSZqX4HIe3J",
        "outputId": "9634c251-7ca4-489b-9bc8-3cd82f6d88d1"
      },
      "execution_count": null,
      "outputs": [
        {
          "output_type": "execute_result",
          "data": {
            "text/plain": [
              "array([ 0.51977395, 11.17881582,  0.59068845,  2.5265062 ])"
            ]
          },
          "metadata": {},
          "execution_count": 26
        }
      ]
    },
    {
      "cell_type": "code",
      "source": [
        "dados"
      ],
      "metadata": {
        "colab": {
          "base_uri": "https://localhost:8080/",
          "height": 363
        },
        "id": "jjpgH8ByHsM5",
        "outputId": "22acd49a-a6c3-4afd-d44f-8073ad0aaf0c"
      },
      "execution_count": null,
      "outputs": [
        {
          "output_type": "execute_result",
          "data": {
            "text/plain": [
              "     t_h          X         G          S         A          P      X_est  \\\n",
              "0   0.00   0.619003  7.542533  53.677860  7.670954   0.000000   0.620000   \n",
              "1   3.33   0.802670  6.313386  54.090063  6.508113   0.000000   1.108590   \n",
              "2   9.50   2.231020  3.005877  49.811490  7.520865   5.448729   2.714456   \n",
              "3  15.58   4.257879  1.568644  34.381284  5.885156  11.040323   4.992254   \n",
              "4  21.58   5.422295  1.585663  24.293974  5.900578  19.198021   7.279359   \n",
              "5  27.91   7.324173  0.874884  15.097138  5.390947  25.595118   9.246900   \n",
              "6  33.16   9.769446  0.000000  11.545548  5.459147  26.444251  10.449825   \n",
              "7  39.16  12.641671  0.000000   8.448034  5.394757  26.045459  11.415550   \n",
              "8  42.49  12.474771  0.000000   7.142522  5.100285  25.622192  11.802835   \n",
              "9  45.07  12.862910  0.000000   6.812621  5.499062  27.004000  12.045143   \n",
              "\n",
              "       S_est      P_est  \n",
              "0  53.680000   0.000000  \n",
              "1  51.590192   1.234426  \n",
              "2  44.721543   5.291658  \n",
              "3  34.978893  11.046529  \n",
              "4  25.196430  16.824918  \n",
              "5  16.780817  21.795923  \n",
              "6  11.635639  24.835121  \n",
              "7   7.505020  27.275031  \n",
              "8   5.848514  28.253510  \n",
              "9   4.812107  28.865703  "
            ],
            "text/html": [
              "\n",
              "  <div id=\"df-c6f00bcf-1c3a-4e34-8012-c81f22eb77aa\">\n",
              "    <div class=\"colab-df-container\">\n",
              "      <div>\n",
              "<style scoped>\n",
              "    .dataframe tbody tr th:only-of-type {\n",
              "        vertical-align: middle;\n",
              "    }\n",
              "\n",
              "    .dataframe tbody tr th {\n",
              "        vertical-align: top;\n",
              "    }\n",
              "\n",
              "    .dataframe thead th {\n",
              "        text-align: right;\n",
              "    }\n",
              "</style>\n",
              "<table border=\"1\" class=\"dataframe\">\n",
              "  <thead>\n",
              "    <tr style=\"text-align: right;\">\n",
              "      <th></th>\n",
              "      <th>t_h</th>\n",
              "      <th>X</th>\n",
              "      <th>G</th>\n",
              "      <th>S</th>\n",
              "      <th>A</th>\n",
              "      <th>P</th>\n",
              "      <th>X_est</th>\n",
              "      <th>S_est</th>\n",
              "      <th>P_est</th>\n",
              "    </tr>\n",
              "  </thead>\n",
              "  <tbody>\n",
              "    <tr>\n",
              "      <th>0</th>\n",
              "      <td>0.00</td>\n",
              "      <td>0.619003</td>\n",
              "      <td>7.542533</td>\n",
              "      <td>53.677860</td>\n",
              "      <td>7.670954</td>\n",
              "      <td>0.000000</td>\n",
              "      <td>0.620000</td>\n",
              "      <td>53.680000</td>\n",
              "      <td>0.000000</td>\n",
              "    </tr>\n",
              "    <tr>\n",
              "      <th>1</th>\n",
              "      <td>3.33</td>\n",
              "      <td>0.802670</td>\n",
              "      <td>6.313386</td>\n",
              "      <td>54.090063</td>\n",
              "      <td>6.508113</td>\n",
              "      <td>0.000000</td>\n",
              "      <td>1.108590</td>\n",
              "      <td>51.590192</td>\n",
              "      <td>1.234426</td>\n",
              "    </tr>\n",
              "    <tr>\n",
              "      <th>2</th>\n",
              "      <td>9.50</td>\n",
              "      <td>2.231020</td>\n",
              "      <td>3.005877</td>\n",
              "      <td>49.811490</td>\n",
              "      <td>7.520865</td>\n",
              "      <td>5.448729</td>\n",
              "      <td>2.714456</td>\n",
              "      <td>44.721543</td>\n",
              "      <td>5.291658</td>\n",
              "    </tr>\n",
              "    <tr>\n",
              "      <th>3</th>\n",
              "      <td>15.58</td>\n",
              "      <td>4.257879</td>\n",
              "      <td>1.568644</td>\n",
              "      <td>34.381284</td>\n",
              "      <td>5.885156</td>\n",
              "      <td>11.040323</td>\n",
              "      <td>4.992254</td>\n",
              "      <td>34.978893</td>\n",
              "      <td>11.046529</td>\n",
              "    </tr>\n",
              "    <tr>\n",
              "      <th>4</th>\n",
              "      <td>21.58</td>\n",
              "      <td>5.422295</td>\n",
              "      <td>1.585663</td>\n",
              "      <td>24.293974</td>\n",
              "      <td>5.900578</td>\n",
              "      <td>19.198021</td>\n",
              "      <td>7.279359</td>\n",
              "      <td>25.196430</td>\n",
              "      <td>16.824918</td>\n",
              "    </tr>\n",
              "    <tr>\n",
              "      <th>5</th>\n",
              "      <td>27.91</td>\n",
              "      <td>7.324173</td>\n",
              "      <td>0.874884</td>\n",
              "      <td>15.097138</td>\n",
              "      <td>5.390947</td>\n",
              "      <td>25.595118</td>\n",
              "      <td>9.246900</td>\n",
              "      <td>16.780817</td>\n",
              "      <td>21.795923</td>\n",
              "    </tr>\n",
              "    <tr>\n",
              "      <th>6</th>\n",
              "      <td>33.16</td>\n",
              "      <td>9.769446</td>\n",
              "      <td>0.000000</td>\n",
              "      <td>11.545548</td>\n",
              "      <td>5.459147</td>\n",
              "      <td>26.444251</td>\n",
              "      <td>10.449825</td>\n",
              "      <td>11.635639</td>\n",
              "      <td>24.835121</td>\n",
              "    </tr>\n",
              "    <tr>\n",
              "      <th>7</th>\n",
              "      <td>39.16</td>\n",
              "      <td>12.641671</td>\n",
              "      <td>0.000000</td>\n",
              "      <td>8.448034</td>\n",
              "      <td>5.394757</td>\n",
              "      <td>26.045459</td>\n",
              "      <td>11.415550</td>\n",
              "      <td>7.505020</td>\n",
              "      <td>27.275031</td>\n",
              "    </tr>\n",
              "    <tr>\n",
              "      <th>8</th>\n",
              "      <td>42.49</td>\n",
              "      <td>12.474771</td>\n",
              "      <td>0.000000</td>\n",
              "      <td>7.142522</td>\n",
              "      <td>5.100285</td>\n",
              "      <td>25.622192</td>\n",
              "      <td>11.802835</td>\n",
              "      <td>5.848514</td>\n",
              "      <td>28.253510</td>\n",
              "    </tr>\n",
              "    <tr>\n",
              "      <th>9</th>\n",
              "      <td>45.07</td>\n",
              "      <td>12.862910</td>\n",
              "      <td>0.000000</td>\n",
              "      <td>6.812621</td>\n",
              "      <td>5.499062</td>\n",
              "      <td>27.004000</td>\n",
              "      <td>12.045143</td>\n",
              "      <td>4.812107</td>\n",
              "      <td>28.865703</td>\n",
              "    </tr>\n",
              "  </tbody>\n",
              "</table>\n",
              "</div>\n",
              "      <button class=\"colab-df-convert\" onclick=\"convertToInteractive('df-c6f00bcf-1c3a-4e34-8012-c81f22eb77aa')\"\n",
              "              title=\"Convert this dataframe to an interactive table.\"\n",
              "              style=\"display:none;\">\n",
              "        \n",
              "  <svg xmlns=\"http://www.w3.org/2000/svg\" height=\"24px\"viewBox=\"0 0 24 24\"\n",
              "       width=\"24px\">\n",
              "    <path d=\"M0 0h24v24H0V0z\" fill=\"none\"/>\n",
              "    <path d=\"M18.56 5.44l.94 2.06.94-2.06 2.06-.94-2.06-.94-.94-2.06-.94 2.06-2.06.94zm-11 1L8.5 8.5l.94-2.06 2.06-.94-2.06-.94L8.5 2.5l-.94 2.06-2.06.94zm10 10l.94 2.06.94-2.06 2.06-.94-2.06-.94-.94-2.06-.94 2.06-2.06.94z\"/><path d=\"M17.41 7.96l-1.37-1.37c-.4-.4-.92-.59-1.43-.59-.52 0-1.04.2-1.43.59L10.3 9.45l-7.72 7.72c-.78.78-.78 2.05 0 2.83L4 21.41c.39.39.9.59 1.41.59.51 0 1.02-.2 1.41-.59l7.78-7.78 2.81-2.81c.8-.78.8-2.07 0-2.86zM5.41 20L4 18.59l7.72-7.72 1.47 1.35L5.41 20z\"/>\n",
              "  </svg>\n",
              "      </button>\n",
              "      \n",
              "  <style>\n",
              "    .colab-df-container {\n",
              "      display:flex;\n",
              "      flex-wrap:wrap;\n",
              "      gap: 12px;\n",
              "    }\n",
              "\n",
              "    .colab-df-convert {\n",
              "      background-color: #E8F0FE;\n",
              "      border: none;\n",
              "      border-radius: 50%;\n",
              "      cursor: pointer;\n",
              "      display: none;\n",
              "      fill: #1967D2;\n",
              "      height: 32px;\n",
              "      padding: 0 0 0 0;\n",
              "      width: 32px;\n",
              "    }\n",
              "\n",
              "    .colab-df-convert:hover {\n",
              "      background-color: #E2EBFA;\n",
              "      box-shadow: 0px 1px 2px rgba(60, 64, 67, 0.3), 0px 1px 3px 1px rgba(60, 64, 67, 0.15);\n",
              "      fill: #174EA6;\n",
              "    }\n",
              "\n",
              "    [theme=dark] .colab-df-convert {\n",
              "      background-color: #3B4455;\n",
              "      fill: #D2E3FC;\n",
              "    }\n",
              "\n",
              "    [theme=dark] .colab-df-convert:hover {\n",
              "      background-color: #434B5C;\n",
              "      box-shadow: 0px 1px 3px 1px rgba(0, 0, 0, 0.15);\n",
              "      filter: drop-shadow(0px 1px 2px rgba(0, 0, 0, 0.3));\n",
              "      fill: #FFFFFF;\n",
              "    }\n",
              "  </style>\n",
              "\n",
              "      <script>\n",
              "        const buttonEl =\n",
              "          document.querySelector('#df-c6f00bcf-1c3a-4e34-8012-c81f22eb77aa button.colab-df-convert');\n",
              "        buttonEl.style.display =\n",
              "          google.colab.kernel.accessAllowed ? 'block' : 'none';\n",
              "\n",
              "        async function convertToInteractive(key) {\n",
              "          const element = document.querySelector('#df-c6f00bcf-1c3a-4e34-8012-c81f22eb77aa');\n",
              "          const dataTable =\n",
              "            await google.colab.kernel.invokeFunction('convertToInteractive',\n",
              "                                                     [key], {});\n",
              "          if (!dataTable) return;\n",
              "\n",
              "          const docLinkHtml = 'Like what you see? Visit the ' +\n",
              "            '<a target=\"_blank\" href=https://colab.research.google.com/notebooks/data_table.ipynb>data table notebook</a>'\n",
              "            + ' to learn more about interactive tables.';\n",
              "          element.innerHTML = '';\n",
              "          dataTable['output_type'] = 'display_data';\n",
              "          await google.colab.output.renderOutput(dataTable, element);\n",
              "          const docLink = document.createElement('div');\n",
              "          docLink.innerHTML = docLinkHtml;\n",
              "          element.appendChild(docLink);\n",
              "        }\n",
              "      </script>\n",
              "    </div>\n",
              "  </div>\n",
              "  "
            ]
          },
          "metadata": {},
          "execution_count": 27
        }
      ]
    },
    {
      "cell_type": "code",
      "source": [
        "#Rendimento de Contois e Fujimoto\n",
        "yps = (28.865703)/(53.6800000 - 4.812107)\n",
        "yps"
      ],
      "metadata": {
        "colab": {
          "base_uri": "https://localhost:8080/"
        },
        "id": "RMBlNUTiWN1z",
        "outputId": "b7a5226d-1bac-4792-808e-58a406ca7898"
      },
      "execution_count": null,
      "outputs": [
        {
          "output_type": "execute_result",
          "data": {
            "text/plain": [
              "0.5906885119847504"
            ]
          },
          "metadata": {},
          "execution_count": 39
        }
      ]
    },
    {
      "cell_type": "code",
      "source": [
        "#Rendimento de Aiba\n",
        "yps = (28.826334)/(53.6800000 - 4.782700)\n",
        "yps"
      ],
      "metadata": {
        "colab": {
          "base_uri": "https://localhost:8080/"
        },
        "id": "ioZCWYP5cHP5",
        "outputId": "1d21cf50-71b1-4f2d-f588-c4be970608b7"
      },
      "execution_count": null,
      "outputs": [
        {
          "output_type": "execute_result",
          "data": {
            "text/plain": [
              "0.5895281334552214"
            ]
          },
          "metadata": {},
          "execution_count": 28
        }
      ]
    },
    {
      "cell_type": "code",
      "source": [
        "#Produtividade de Aiba\n",
        "Q = (28.826334)/45.07\n",
        "Q"
      ],
      "metadata": {
        "colab": {
          "base_uri": "https://localhost:8080/"
        },
        "id": "-746r_Pm5fCy",
        "outputId": "5b96a4e1-fe50-4cb8-af4f-d25ac98182c6"
      },
      "execution_count": null,
      "outputs": [
        {
          "output_type": "execute_result",
          "data": {
            "text/plain": [
              "0.6395902817838917"
            ]
          },
          "metadata": {},
          "execution_count": 29
        }
      ]
    },
    {
      "cell_type": "code",
      "source": [
        "#Produtividade de Contois e Fujimoto\n",
        "Q = (28.865703)/45.07\n",
        "Q"
      ],
      "metadata": {
        "id": "t7JY--ywWmPF",
        "outputId": "50145c67-ed31-43cb-b0b1-5db2f1ad7718",
        "colab": {
          "base_uri": "https://localhost:8080/"
        }
      },
      "execution_count": null,
      "outputs": [
        {
          "output_type": "execute_result",
          "data": {
            "text/plain": [
              "0.6404637896605281"
            ]
          },
          "metadata": {},
          "execution_count": 40
        }
      ]
    },
    {
      "cell_type": "code",
      "source": [
        "fig2, ax2 = plt.subplots()\n",
        "ax2.plot(dados.t_h, dados.X    , 'bo', label='Dados Experimentais')\n",
        "ax2.plot(dados.t_h, dados.X_est, 'bo', label='Dados Estimados', color='red')\n",
        "# Adicionando texto nos eixos - descrição\n",
        "ax2.set_xlabel('tempo [h]')\n",
        "ax2.set_ylabel('X - células [g/L]')\n",
        "# Adicionando título para a figura\n",
        "ax2.set_title('Células')\n",
        "# Adicionando uma legenda\n",
        "ax2.legend()\n",
        "ax2.grid()"
      ],
      "metadata": {
        "colab": {
          "base_uri": "https://localhost:8080/",
          "height": 295
        },
        "id": "taAVaGZCH_xZ",
        "outputId": "53e0e327-f601-4daf-94a4-11954f9d3e8c"
      },
      "execution_count": null,
      "outputs": [
        {
          "output_type": "display_data",
          "data": {
            "text/plain": [
              "<Figure size 432x288 with 1 Axes>"
            ],
            "image/png": "[encoded data removed]"
          },
          "metadata": {
            "needs_background": "light"
          }
        }
      ]
    },
    {
      "cell_type": "code",
      "source": [
        "r2 = r2_score(dados.X_est, dados.X)\n",
        "r2"
      ],
      "metadata": {
        "colab": {
          "base_uri": "https://localhost:8080/"
        },
        "id": "G2zTiNkY-EAl",
        "outputId": "9783172a-b194-4256-8481-c77612ec5bb8"
      },
      "execution_count": null,
      "outputs": [
        {
          "output_type": "execute_result",
          "data": {
            "text/plain": [
              "0.939210239254802"
            ]
          },
          "metadata": {},
          "execution_count": 31
        }
      ]
    },
    {
      "cell_type": "code",
      "source": [
        "MAE = mean_absolute_error(dados.X_est, dados.X)\n",
        "MAE"
      ],
      "metadata": {
        "colab": {
          "base_uri": "https://localhost:8080/"
        },
        "id": "B0e0wRJUT8pj",
        "outputId": "ae0f424b-3a74-4b31-90d9-57647e463aca"
      },
      "execution_count": null,
      "outputs": [
        {
          "output_type": "execute_result",
          "data": {
            "text/plain": [
              "0.8700721369964715"
            ]
          },
          "metadata": {},
          "execution_count": 32
        }
      ]
    },
    {
      "cell_type": "code",
      "source": [
        "fig3, ax3 = plt.subplots()\n",
        "ax3.plot(dados.t_h, dados.S    , 'bo', label='Dados Experimentais')\n",
        "ax3.plot(dados.t_h, dados.S_est, 'bo', label='Dados Estimados', color='red')\n",
        "# Adicionando texto nos eixos - descrição\n",
        "ax3.set_xlabel('tempo [h]')\n",
        "ax3.set_ylabel('S - substrato [g/L]')\n",
        "# Adicionando título para a figura\n",
        "ax3.set_title('Substrato')\n",
        "# Adicionando uma legenda\n",
        "ax3.legend()\n",
        "ax3.grid()"
      ],
      "metadata": {
        "colab": {
          "base_uri": "https://localhost:8080/",
          "height": 295
        },
        "id": "4ed_3nnLI-v5",
        "outputId": "b38d897f-4dff-4799-e4a9-8a8921ead84f"
      },
      "execution_count": null,
      "outputs": [
        {
          "output_type": "display_data",
          "data": {
            "text/plain": [
              "<Figure size 432x288 with 1 Axes>"
            ],
            "image/png": "[encoded data removed]"
          },
          "metadata": {
            "needs_background": "light"
          }
        }
      ]
    },
    {
      "cell_type": "code",
      "source": [
        "r2 = r2_score(dados.S_est, dados.S)\n",
        "r2"
      ],
      "metadata": {
        "colab": {
          "base_uri": "https://localhost:8080/"
        },
        "id": "b6XY50jK-IFJ",
        "outputId": "baf4900e-6701-4496-8a46-3ae29acec754"
      },
      "execution_count": null,
      "outputs": [
        {
          "output_type": "execute_result",
          "data": {
            "text/plain": [
              "0.987205006850307"
            ]
          },
          "metadata": {},
          "execution_count": 34
        }
      ]
    },
    {
      "cell_type": "code",
      "source": [
        "MAE = mean_absolute_error(dados.S_est, dados.S)\n",
        "MAE"
      ],
      "metadata": {
        "colab": {
          "base_uri": "https://localhost:8080/"
        },
        "id": "vtkRVAHqVo2F",
        "outputId": "596eff39-54d7-4dd0-aee5-d6b668a099eb"
      },
      "execution_count": null,
      "outputs": [
        {
          "output_type": "execute_result",
          "data": {
            "text/plain": [
              "1.51033300163884"
            ]
          },
          "metadata": {},
          "execution_count": 35
        }
      ]
    },
    {
      "cell_type": "code",
      "source": [
        "fig4, ax4 = plt.subplots()\n",
        "ax4.plot(dados.t_h, dados.P    , 'bo', label='Dados Experimentais')\n",
        "ax4.plot(dados.t_h, dados.P_est, 'bo', label='Dados Estimados', color='red')\n",
        "# Adicionando texto nos eixos - descrição\n",
        "ax4.set_xlabel('tempo [h]')\n",
        "ax4.set_ylabel('P - células [g/L]')\n",
        "# Adicionando título para a figura\n",
        "ax4.set_title('Produto')\n",
        "# Adicionando uma legenda\n",
        "ax4.legend()\n",
        "ax4.grid()"
      ],
      "metadata": {
        "colab": {
          "base_uri": "https://localhost:8080/",
          "height": 295
        },
        "id": "2gCUcx_BJMmJ",
        "outputId": "f8b7e6f4-6e86-4b32-c670-887ac0b4d26b"
      },
      "execution_count": null,
      "outputs": [
        {
          "output_type": "display_data",
          "data": {
            "text/plain": [
              "<Figure size 432x288 with 1 Axes>"
            ],
            "image/png": "[encoded data removed]"
          },
          "metadata": {
            "needs_background": "light"
          }
        }
      ]
    },
    {
      "cell_type": "code",
      "source": [
        "r2 = r2_score(dados.P_est, dados.P)\n",
        "r2"
      ],
      "metadata": {
        "id": "QGRA8leN-OvZ",
        "outputId": "d714e652-e68f-4624-993d-a33cd646486c",
        "colab": {
          "base_uri": "https://localhost:8080/"
        }
      },
      "execution_count": null,
      "outputs": [
        {
          "output_type": "execute_result",
          "data": {
            "text/plain": [
              "0.9690198337697129"
            ]
          },
          "metadata": {},
          "execution_count": 37
        }
      ]
    },
    {
      "cell_type": "code",
      "source": [
        "MAE = mean_absolute_error(dados.P_est, dados.P)\n",
        "MAE"
      ],
      "metadata": {
        "colab": {
          "base_uri": "https://localhost:8080/"
        },
        "id": "VEpF_kx3Wvaz",
        "outputId": "6ca6349f-2d6c-404b-8917-6adee1548982"
      },
      "execution_count": null,
      "outputs": [
        {
          "output_type": "execute_result",
          "data": {
            "text/plain": [
              "1.4901721900311042"
            ]
          },
          "metadata": {},
          "execution_count": 38
        }
      ]
    }
  ]
}